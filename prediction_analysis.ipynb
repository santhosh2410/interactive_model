{
 "cells": [
  {
   "cell_type": "code",
   "execution_count": 1,
   "id": "1cfe8a2a",
   "metadata": {},
   "outputs": [],
   "source": [
    "import warnings\n",
    "warnings.filterwarnings('ignore')\n",
    "\n",
    "import pandas as pd\n",
    "import numpy as np\n",
    "import matplotlib.pyplot as plt\n",
    "\n",
    "pd.set_option('display.max_columns', None)\n",
    "pd.set_option('display.max_rows', None)\n",
    "pd.set_option('display.expand_frame_repr', None)\n",
    "pd.set_option('max_colwidth', -1)"
   ]
  },
  {
   "cell_type": "code",
   "execution_count": 2,
   "id": "19aef2aa",
   "metadata": {},
   "outputs": [
    {
     "data": {
      "text/html": [
       "<div>\n",
       "<style scoped>\n",
       "    .dataframe tbody tr th:only-of-type {\n",
       "        vertical-align: middle;\n",
       "    }\n",
       "\n",
       "    .dataframe tbody tr th {\n",
       "        vertical-align: top;\n",
       "    }\n",
       "\n",
       "    .dataframe thead th {\n",
       "        text-align: right;\n",
       "    }\n",
       "</style>\n",
       "<table border=\"1\" class=\"dataframe\">\n",
       "  <thead>\n",
       "    <tr style=\"text-align: right;\">\n",
       "      <th></th>\n",
       "      <th>match_id</th>\n",
       "      <th>season</th>\n",
       "      <th>start_date</th>\n",
       "      <th>venue</th>\n",
       "      <th>innings</th>\n",
       "      <th>ball</th>\n",
       "      <th>batting_team</th>\n",
       "      <th>bowling_team</th>\n",
       "      <th>striker</th>\n",
       "      <th>non_striker</th>\n",
       "      <th>bowler</th>\n",
       "      <th>runs_off_bat</th>\n",
       "      <th>extras</th>\n",
       "      <th>wides</th>\n",
       "      <th>noballs</th>\n",
       "      <th>byes</th>\n",
       "      <th>legbyes</th>\n",
       "      <th>penalty</th>\n",
       "      <th>wicket_type</th>\n",
       "      <th>player_dismissed</th>\n",
       "      <th>other_wicket_type</th>\n",
       "      <th>other_player_dismissed</th>\n",
       "    </tr>\n",
       "  </thead>\n",
       "  <tbody>\n",
       "    <tr>\n",
       "      <th>0</th>\n",
       "      <td>335982</td>\n",
       "      <td>2008</td>\n",
       "      <td>2008-04-18</td>\n",
       "      <td>M Chinnaswamy Stadium</td>\n",
       "      <td>2</td>\n",
       "      <td>6.8</td>\n",
       "      <td>Royal Challengers Bangalore</td>\n",
       "      <td>Kolkata Knight Riders</td>\n",
       "      <td>MV Boucher</td>\n",
       "      <td>CL White</td>\n",
       "      <td>AB Agarkar</td>\n",
       "      <td>4</td>\n",
       "      <td>0</td>\n",
       "      <td>NaN</td>\n",
       "      <td>NaN</td>\n",
       "      <td>NaN</td>\n",
       "      <td>NaN</td>\n",
       "      <td>NaN</td>\n",
       "      <td>NaN</td>\n",
       "      <td>NaN</td>\n",
       "      <td>NaN</td>\n",
       "      <td>NaN</td>\n",
       "    </tr>\n",
       "    <tr>\n",
       "      <th>1</th>\n",
       "      <td>335982</td>\n",
       "      <td>2008</td>\n",
       "      <td>2008-04-18</td>\n",
       "      <td>M Chinnaswamy Stadium</td>\n",
       "      <td>2</td>\n",
       "      <td>2.7</td>\n",
       "      <td>Royal Challengers Bangalore</td>\n",
       "      <td>Kolkata Knight Riders</td>\n",
       "      <td>W Jaffer</td>\n",
       "      <td>JH Kallis</td>\n",
       "      <td>AB Dinda</td>\n",
       "      <td>1</td>\n",
       "      <td>0</td>\n",
       "      <td>NaN</td>\n",
       "      <td>NaN</td>\n",
       "      <td>NaN</td>\n",
       "      <td>NaN</td>\n",
       "      <td>NaN</td>\n",
       "      <td>NaN</td>\n",
       "      <td>NaN</td>\n",
       "      <td>NaN</td>\n",
       "      <td>NaN</td>\n",
       "    </tr>\n",
       "  </tbody>\n",
       "</table>\n",
       "</div>"
      ],
      "text/plain": [
       "   match_id  season  start_date                  venue  innings  ball                 batting_team           bowling_team     striker non_striker      bowler  runs_off_bat  extras  wides  noballs  byes  legbyes  penalty wicket_type player_dismissed  other_wicket_type  other_player_dismissed\n",
       "0  335982    2008    2008-04-18  M Chinnaswamy Stadium  2        6.8   Royal Challengers Bangalore  Kolkata Knight Riders  MV Boucher  CL White    AB Agarkar  4             0      NaN    NaN      NaN   NaN      NaN       NaN         NaN             NaN                NaN                    \n",
       "1  335982    2008    2008-04-18  M Chinnaswamy Stadium  2        2.7   Royal Challengers Bangalore  Kolkata Knight Riders  W Jaffer    JH Kallis   AB Dinda    1             0      NaN    NaN      NaN   NaN      NaN       NaN         NaN             NaN                NaN                    "
      ]
     },
     "execution_count": 2,
     "metadata": {},
     "output_type": "execute_result"
    }
   ],
   "source": [
    "ipl_df = pd.read_csv('IPL_ball_by_ball_updated.csv')\n",
    "ipl_df.head(2)"
   ]
  },
  {
   "cell_type": "code",
   "execution_count": 3,
   "id": "99fc78cf",
   "metadata": {},
   "outputs": [
    {
     "data": {
      "text/plain": [
       "Index(['match_id', 'season', 'start_date', 'venue', 'innings', 'ball',\n",
       "       'batting_team', 'bowling_team', 'striker', 'non_striker', 'bowler',\n",
       "       'runs_off_bat', 'extras', 'wides', 'noballs', 'byes', 'legbyes',\n",
       "       'penalty', 'wicket_type', 'player_dismissed', 'other_wicket_type',\n",
       "       'other_player_dismissed'],\n",
       "      dtype='object')"
      ]
     },
     "execution_count": 3,
     "metadata": {},
     "output_type": "execute_result"
    }
   ],
   "source": [
    "ipl_df.columns"
   ]
  },
  {
   "cell_type": "code",
   "execution_count": 4,
   "id": "22833f08",
   "metadata": {},
   "outputs": [
    {
     "data": {
      "text/html": [
       "<div>\n",
       "<style scoped>\n",
       "    .dataframe tbody tr th:only-of-type {\n",
       "        vertical-align: middle;\n",
       "    }\n",
       "\n",
       "    .dataframe tbody tr th {\n",
       "        vertical-align: top;\n",
       "    }\n",
       "\n",
       "    .dataframe thead th {\n",
       "        text-align: right;\n",
       "    }\n",
       "</style>\n",
       "<table border=\"1\" class=\"dataframe\">\n",
       "  <thead>\n",
       "    <tr style=\"text-align: right;\">\n",
       "      <th></th>\n",
       "      <th>match_id</th>\n",
       "      <th>season</th>\n",
       "      <th>start_date</th>\n",
       "      <th>venue</th>\n",
       "      <th>innings</th>\n",
       "      <th>ball</th>\n",
       "      <th>batting_team</th>\n",
       "      <th>bowling_team</th>\n",
       "      <th>striker</th>\n",
       "      <th>non_striker</th>\n",
       "      <th>bowler</th>\n",
       "      <th>runs_off_bat</th>\n",
       "      <th>extras</th>\n",
       "      <th>wides</th>\n",
       "      <th>noballs</th>\n",
       "      <th>byes</th>\n",
       "      <th>legbyes</th>\n",
       "      <th>penalty</th>\n",
       "      <th>wicket_type</th>\n",
       "      <th>player_dismissed</th>\n",
       "      <th>other_wicket_type</th>\n",
       "      <th>other_player_dismissed</th>\n",
       "    </tr>\n",
       "  </thead>\n",
       "  <tbody>\n",
       "    <tr>\n",
       "      <th>0</th>\n",
       "      <td>335982</td>\n",
       "      <td>2008</td>\n",
       "      <td>2008-04-18</td>\n",
       "      <td>M Chinnaswamy Stadium</td>\n",
       "      <td>2</td>\n",
       "      <td>6.8</td>\n",
       "      <td>Royal Challengers Bangalore</td>\n",
       "      <td>Kolkata Knight Riders</td>\n",
       "      <td>MV Boucher</td>\n",
       "      <td>CL White</td>\n",
       "      <td>AB Agarkar</td>\n",
       "      <td>4</td>\n",
       "      <td>0</td>\n",
       "      <td>NaN</td>\n",
       "      <td>NaN</td>\n",
       "      <td>NaN</td>\n",
       "      <td>NaN</td>\n",
       "      <td>NaN</td>\n",
       "      <td>NaN</td>\n",
       "      <td>NaN</td>\n",
       "      <td>NaN</td>\n",
       "      <td>NaN</td>\n",
       "    </tr>\n",
       "    <tr>\n",
       "      <th>1</th>\n",
       "      <td>335982</td>\n",
       "      <td>2008</td>\n",
       "      <td>2008-04-18</td>\n",
       "      <td>M Chinnaswamy Stadium</td>\n",
       "      <td>2</td>\n",
       "      <td>2.7</td>\n",
       "      <td>Royal Challengers Bangalore</td>\n",
       "      <td>Kolkata Knight Riders</td>\n",
       "      <td>W Jaffer</td>\n",
       "      <td>JH Kallis</td>\n",
       "      <td>AB Dinda</td>\n",
       "      <td>1</td>\n",
       "      <td>0</td>\n",
       "      <td>NaN</td>\n",
       "      <td>NaN</td>\n",
       "      <td>NaN</td>\n",
       "      <td>NaN</td>\n",
       "      <td>NaN</td>\n",
       "      <td>NaN</td>\n",
       "      <td>NaN</td>\n",
       "      <td>NaN</td>\n",
       "      <td>NaN</td>\n",
       "    </tr>\n",
       "  </tbody>\n",
       "</table>\n",
       "</div>"
      ],
      "text/plain": [
       "   match_id  season  start_date                  venue  innings  ball                 batting_team           bowling_team     striker non_striker      bowler  runs_off_bat  extras  wides  noballs  byes  legbyes  penalty wicket_type player_dismissed  other_wicket_type  other_player_dismissed\n",
       "0  335982    2008    2008-04-18  M Chinnaswamy Stadium  2        6.8   Royal Challengers Bangalore  Kolkata Knight Riders  MV Boucher  CL White    AB Agarkar  4             0      NaN    NaN      NaN   NaN      NaN       NaN         NaN             NaN                NaN                    \n",
       "1  335982    2008    2008-04-18  M Chinnaswamy Stadium  2        2.7   Royal Challengers Bangalore  Kolkata Knight Riders  W Jaffer    JH Kallis   AB Dinda    1             0      NaN    NaN      NaN   NaN      NaN       NaN         NaN             NaN                NaN                    "
      ]
     },
     "execution_count": 4,
     "metadata": {},
     "output_type": "execute_result"
    }
   ],
   "source": [
    "ipl_df = ipl_df[(ipl_df.innings == 1) | (ipl_df.innings == 2)]\n",
    "ipl_df.head(2)"
   ]
  },
  {
   "cell_type": "code",
   "execution_count": 5,
   "id": "2b2402ed",
   "metadata": {},
   "outputs": [],
   "source": [
    "ipl_df['total_runs'] = ipl_df.apply(lambda x: x['runs_off_bat'] + x['extras'], axis=1)"
   ]
  },
  {
   "cell_type": "code",
   "execution_count": 6,
   "id": "4e40c28e",
   "metadata": {},
   "outputs": [],
   "source": [
    "ipl_df['isOut'] = ipl_df['player_dismissed'].apply(lambda x: 1 if type(x) == type('deva') else 0)\n"
   ]
  },
  {
   "cell_type": "code",
   "execution_count": 7,
   "id": "cd838b50",
   "metadata": {},
   "outputs": [
    {
     "data": {
      "text/plain": [
       "array(['Royal Challengers Bangalore', 'Kolkata Knight Riders',\n",
       "       'Rajasthan Royals', 'Delhi Daredevils', 'Kings XI Punjab',\n",
       "       'Chennai Super Kings', 'Deccan Chargers', 'Mumbai Indians',\n",
       "       'Kochi Tuskers Kerala', 'Pune Warriors', 'Sunrisers Hyderabad',\n",
       "       'Rising Pune Supergiants', 'Gujarat Lions',\n",
       "       'Rising Pune Supergiant', 'Delhi Capitals', 'Punjab Kings',\n",
       "       'Gujarat Titans', 'Lucknow Super Giants'], dtype=object)"
      ]
     },
     "execution_count": 7,
     "metadata": {},
     "output_type": "execute_result"
    }
   ],
   "source": [
    "ipl_df.batting_team.unique()"
   ]
  },
  {
   "cell_type": "code",
   "execution_count": 8,
   "id": "aea8d98c",
   "metadata": {},
   "outputs": [
    {
     "data": {
      "text/plain": [
       "array([2008, 2009, 2010, 2011, 2012, 2013, 2014, 2015, 2016, 2017, 2018,\n",
       "       2019, 2020, 2021, 2022], dtype=int64)"
      ]
     },
     "execution_count": 8,
     "metadata": {},
     "output_type": "execute_result"
    }
   ],
   "source": [
    "ipl_df.season.unique()"
   ]
  },
  {
   "cell_type": "code",
   "execution_count": 9,
   "id": "a3daae2a",
   "metadata": {},
   "outputs": [],
   "source": [
    "ipl_df['batting_team'] = ipl_df['batting_team'].replace(['Rising Pune Supergiant', 'Rising Pune Supergiants'], 'RPS')\n",
    "ipl_df['bowling_team'] = ipl_df['bowling_team'].replace(['Rising Pune Supergiant', 'Rising Pune Supergiants'], 'RPS')"
   ]
  },
  {
   "cell_type": "code",
   "execution_count": 10,
   "id": "3e331e0a",
   "metadata": {},
   "outputs": [],
   "source": [
    "ipl_df['batting_team'] = ipl_df['batting_team'].replace(['RPS'], 'Rising Pune Supergiants')\n",
    "ipl_df['bowling_team'] = ipl_df['bowling_team'].replace(['RPS'], 'Rising Pune Supergiants')"
   ]
  },
  {
   "cell_type": "code",
   "execution_count": 11,
   "id": "869e843e",
   "metadata": {},
   "outputs": [
    {
     "data": {
      "text/plain": [
       "array([2, 1], dtype=int64)"
      ]
     },
     "execution_count": 11,
     "metadata": {},
     "output_type": "execute_result"
    }
   ],
   "source": [
    "ipl_df.innings.unique()"
   ]
  },
  {
   "cell_type": "code",
   "execution_count": 12,
   "id": "417a27c4",
   "metadata": {},
   "outputs": [],
   "source": [
    "ipl_df = ipl_df.sort_values('innings', ascending = True)"
   ]
  },
  {
   "cell_type": "code",
   "execution_count": 13,
   "id": "7850fa98",
   "metadata": {},
   "outputs": [
    {
     "data": {
      "text/plain": [
       "1    10515\n",
       "0    8661 \n",
       "4    2829 \n",
       "2    1706 \n",
       "6    1259 \n",
       "3    98   \n",
       "5    46   \n",
       "7    9    \n",
       "Name: total_runs, dtype: int64"
      ]
     },
     "execution_count": 13,
     "metadata": {},
     "output_type": "execute_result"
    }
   ],
   "source": [
    "ipl_df[ipl_df.batting_team == 'Chennai Super Kings'].total_runs.value_counts()"
   ]
  },
  {
   "cell_type": "code",
   "execution_count": 14,
   "id": "7a1fbbad",
   "metadata": {},
   "outputs": [
    {
     "data": {
      "text/plain": [
       "1    11336\n",
       "0    9974 \n",
       "4    3198 \n",
       "2    1721 \n",
       "6    1403 \n",
       "3    104  \n",
       "5    54   \n",
       "7    7    \n",
       "Name: total_runs, dtype: int64"
      ]
     },
     "execution_count": 14,
     "metadata": {},
     "output_type": "execute_result"
    }
   ],
   "source": [
    "ipl_df[ipl_df.batting_team == 'Mumbai Indians'].total_runs.value_counts()"
   ]
  },
  {
   "cell_type": "code",
   "execution_count": 15,
   "id": "64c1981d",
   "metadata": {},
   "outputs": [],
   "source": [
    "t1 = 'Mumbai Indians'\n",
    "t2 = 'Chennai Super Kings'"
   ]
  },
  {
   "cell_type": "code",
   "execution_count": 16,
   "id": "2e18a291",
   "metadata": {},
   "outputs": [
    {
     "data": {
      "text/plain": [
       "array([1181768, 1178419, 1175370], dtype=int64)"
      ]
     },
     "execution_count": 16,
     "metadata": {},
     "output_type": "execute_result"
    }
   ],
   "source": [
    "ipl_df[(ipl_df.batting_team == t1) & (ipl_df.bowling_team == t2) & (ipl_df.innings == 1) & (ipl_df.season == 2019)].match_id.unique()"
   ]
  },
  {
   "cell_type": "code",
   "execution_count": 17,
   "id": "8fba1378",
   "metadata": {},
   "outputs": [],
   "source": [
    "required_match_id = 1181768"
   ]
  },
  {
   "cell_type": "code",
   "execution_count": 18,
   "id": "3dea5f58",
   "metadata": {},
   "outputs": [
    {
     "data": {
      "text/html": [
       "<div>\n",
       "<style scoped>\n",
       "    .dataframe tbody tr th:only-of-type {\n",
       "        vertical-align: middle;\n",
       "    }\n",
       "\n",
       "    .dataframe tbody tr th {\n",
       "        vertical-align: top;\n",
       "    }\n",
       "\n",
       "    .dataframe thead th {\n",
       "        text-align: right;\n",
       "    }\n",
       "</style>\n",
       "<table border=\"1\" class=\"dataframe\">\n",
       "  <thead>\n",
       "    <tr style=\"text-align: right;\">\n",
       "      <th></th>\n",
       "      <th>match_id</th>\n",
       "      <th>season</th>\n",
       "      <th>start_date</th>\n",
       "      <th>venue</th>\n",
       "      <th>innings</th>\n",
       "      <th>ball</th>\n",
       "      <th>batting_team</th>\n",
       "      <th>bowling_team</th>\n",
       "      <th>striker</th>\n",
       "      <th>non_striker</th>\n",
       "      <th>bowler</th>\n",
       "      <th>runs_off_bat</th>\n",
       "      <th>extras</th>\n",
       "      <th>wides</th>\n",
       "      <th>noballs</th>\n",
       "      <th>byes</th>\n",
       "      <th>legbyes</th>\n",
       "      <th>penalty</th>\n",
       "      <th>wicket_type</th>\n",
       "      <th>player_dismissed</th>\n",
       "      <th>other_wicket_type</th>\n",
       "      <th>other_player_dismissed</th>\n",
       "      <th>total_runs</th>\n",
       "      <th>isOut</th>\n",
       "    </tr>\n",
       "  </thead>\n",
       "  <tbody>\n",
       "    <tr>\n",
       "      <th>178902</th>\n",
       "      <td>1181768</td>\n",
       "      <td>2019</td>\n",
       "      <td>2019-05-12</td>\n",
       "      <td>Rajiv Gandhi International Stadium</td>\n",
       "      <td>1</td>\n",
       "      <td>11.5</td>\n",
       "      <td>Mumbai Indians</td>\n",
       "      <td>Chennai Super Kings</td>\n",
       "      <td>KH Pandya</td>\n",
       "      <td>Ishan Kishan</td>\n",
       "      <td>Imran Tahir</td>\n",
       "      <td>0</td>\n",
       "      <td>0</td>\n",
       "      <td>NaN</td>\n",
       "      <td>NaN</td>\n",
       "      <td>NaN</td>\n",
       "      <td>NaN</td>\n",
       "      <td>NaN</td>\n",
       "      <td>NaN</td>\n",
       "      <td>NaN</td>\n",
       "      <td>NaN</td>\n",
       "      <td>NaN</td>\n",
       "      <td>0</td>\n",
       "      <td>0</td>\n",
       "    </tr>\n",
       "  </tbody>\n",
       "</table>\n",
       "</div>"
      ],
      "text/plain": [
       "        match_id  season  start_date                               venue  innings  ball    batting_team         bowling_team    striker   non_striker       bowler  runs_off_bat  extras  wides  noballs  byes  legbyes  penalty wicket_type player_dismissed  other_wicket_type  other_player_dismissed  total_runs  isOut\n",
       "178902  1181768   2019    2019-05-12  Rajiv Gandhi International Stadium  1        11.5  Mumbai Indians  Chennai Super Kings  KH Pandya  Ishan Kishan  Imran Tahir  0             0      NaN    NaN      NaN   NaN      NaN       NaN         NaN             NaN                NaN                      0           0    "
      ]
     },
     "execution_count": 18,
     "metadata": {},
     "output_type": "execute_result"
    }
   ],
   "source": [
    "ipl_df[ipl_df.match_id == required_match_id].head(1)"
   ]
  },
  {
   "cell_type": "code",
   "execution_count": 19,
   "id": "3f4cd099",
   "metadata": {},
   "outputs": [],
   "source": [
    "t1_outs = ipl_df[ipl_df.batting_team == t1].isOut.sum()\n",
    "t2_outs = ipl_df[ipl_df.batting_team == t2].isOut.sum()"
   ]
  },
  {
   "cell_type": "code",
   "execution_count": 20,
   "id": "8dbc6c3f",
   "metadata": {},
   "outputs": [],
   "source": [
    "t1_outcomes = ipl_df[ipl_df.batting_team == t1].total_runs.value_counts()\n",
    "t2_outcomes = ipl_df[ipl_df.batting_team == t2].total_runs.value_counts()"
   ]
  },
  {
   "cell_type": "code",
   "execution_count": 21,
   "id": "b9ed4c1e",
   "metadata": {},
   "outputs": [],
   "source": [
    "outcomes = [0, 1, 2, 3, 4, 6, 'w']"
   ]
  },
  {
   "cell_type": "code",
   "execution_count": 22,
   "id": "066ccb48",
   "metadata": {},
   "outputs": [],
   "source": [
    "t1_outcomes_count = []\n",
    "t2_outcomes_count = []\n",
    "\n",
    "for outcome in outcomes:\n",
    "    try:\n",
    "        if outcome != 'w':\n",
    "            t1_outcomes_count.append(t1_outcomes[outcome])\n",
    "        else:\n",
    "            t1_outcomes_count.append(t1_outs)\n",
    "    except:\n",
    "        t1_outcomes_count.append(0)\n",
    "        \n",
    "\n",
    "\n",
    "for outcome in outcomes:\n",
    "    try:\n",
    "        if outcome != 'w':\n",
    "            t2_outcomes_count.append(t2_outcomes[outcome])\n",
    "        else:\n",
    "            t2_outcomes_count.append(t2_outs)\n",
    "    except:\n",
    "        t2_outcomes_count.append(0)"
   ]
  },
  {
   "cell_type": "code",
   "execution_count": 23,
   "id": "f3894cd9",
   "metadata": {},
   "outputs": [
    {
     "data": {
      "text/plain": [
       "[9974, 11336, 1721, 104, 3198, 1403, 1378]"
      ]
     },
     "execution_count": 23,
     "metadata": {},
     "output_type": "execute_result"
    }
   ],
   "source": [
    "t1_outcomes_count"
   ]
  },
  {
   "cell_type": "code",
   "execution_count": 24,
   "id": "7e791a5a",
   "metadata": {},
   "outputs": [
    {
     "data": {
      "text/plain": [
       "[8661, 10515, 1706, 98, 2829, 1259, 1087]"
      ]
     },
     "execution_count": 24,
     "metadata": {},
     "output_type": "execute_result"
    }
   ],
   "source": [
    "t2_outcomes_count"
   ]
  },
  {
   "cell_type": "code",
   "execution_count": 25,
   "id": "0024070f",
   "metadata": {},
   "outputs": [],
   "source": [
    "t1_pb = [i/sum(t1_outcomes_count) for i in t1_outcomes_count]\n",
    "t2_pb = [i/sum(t2_outcomes_count) for i in t2_outcomes_count]"
   ]
  },
  {
   "cell_type": "code",
   "execution_count": 26,
   "id": "139cee10",
   "metadata": {},
   "outputs": [
    {
     "data": {
      "text/plain": [
       "([0.3425843236930686,\n",
       "  0.3893659407845023,\n",
       "  0.05911245448924916,\n",
       "  0.003572164594353232,\n",
       "  0.10984406127636188,\n",
       "  0.04818987428728447,\n",
       "  0.047331180875180325],\n",
       " [0.33114127317912445,\n",
       "  0.4020263811890652,\n",
       "  0.06522653412349455,\n",
       "  0.0037468935194035556,\n",
       "  0.10816287516727204,\n",
       "  0.04813611164213343,\n",
       "  0.041559931179506786])"
      ]
     },
     "execution_count": 26,
     "metadata": {},
     "output_type": "execute_result"
    }
   ],
   "source": [
    "t1_pb, t2_pb"
   ]
  },
  {
   "cell_type": "code",
   "execution_count": 27,
   "id": "e332a29e",
   "metadata": {},
   "outputs": [],
   "source": [
    "t1_cum_pb = list(np.cumsum(t1_pb))\n",
    "t2_cum_pb = list(np.cumsum(t2_pb))"
   ]
  },
  {
   "cell_type": "code",
   "execution_count": 28,
   "id": "58609dfb",
   "metadata": {},
   "outputs": [],
   "source": [
    "i1p_0 = t1_cum_pb[0]\n",
    "i1p_1 = t1_cum_pb[1]\n",
    "i1p_2 = t1_cum_pb[2]\n",
    "i1p_3 = t1_cum_pb[3]\n",
    "i1p_4 = t1_cum_pb[4]\n",
    "i1p_6 = t1_cum_pb[5]\n",
    "i1p_w = 1\n",
    "\n",
    "pred_runs = 0\n",
    "pred_wkts = 0\n",
    "\n",
    "for i in range(120):\n",
    "    r_value = np.random.random()\n",
    "    \n",
    "    if r_value <= i1p_0:\n",
    "        pred_runs += 0\n",
    "    elif r_value <= i1p_1:\n",
    "        pred_runs += 1\n",
    "    elif r_value <= i1p_2:\n",
    "        pred_runs += 2\n",
    "    elif r_value <= i1p_3:\n",
    "        pred_runs += 3\n",
    "    elif r_value <= i1p_4:\n",
    "        pred_runs += 4\n",
    "    elif r_value <= i1p_6:\n",
    "        pred_runs += 6\n",
    "    else:\n",
    "        pred_runs += 0\n",
    "        pred_wkts += 1\n",
    "        if pred_wkts == 10:\n",
    "            break"
   ]
  },
  {
   "cell_type": "code",
   "execution_count": 29,
   "id": "ee2e9453",
   "metadata": {},
   "outputs": [],
   "source": [
    "def innings_1_runs(curr_overs, curr_score, curr_wkts):\n",
    "    i1p_0 = t1_cum_pb[0]\n",
    "    i1p_1 = t1_cum_pb[1]\n",
    "    i1p_2 = t1_cum_pb[2]\n",
    "    i1p_3 = t1_cum_pb[3]\n",
    "    i1p_4 = t1_cum_pb[4]\n",
    "    i1p_6 = t1_cum_pb[5]\n",
    "    i1p_w = 1\n",
    "    \n",
    "    pred_runs = curr_score\n",
    "    pred_wkts = curr_wkts\n",
    "    \n",
    "    over_ball = curr_overs\n",
    "    over_no = int(str(over_ball).split('.')[0])\n",
    "    ball_no = int(str(over_ball).split('.')[1])\n",
    "    \n",
    "    if ball_no >= 6:\n",
    "        ball_no = 6\n",
    "    current_ball = over_no*6 + ball_no\n",
    "    left_over_balls = 120 - current_ball\n",
    "    \n",
    "    for i in range(left_over_balls):\n",
    "        \n",
    "        r_value = np.random.random()\n",
    "        \n",
    "        if r_value <= i1p_0:\n",
    "            pred_runs += 0\n",
    "        elif r_value <= i1p_1:\n",
    "            pred_runs += 1\n",
    "        elif r_value <= i1p_2:\n",
    "            pred_runs += 2\n",
    "        elif r_value <= i1p_3:\n",
    "            pred_runs += 3\n",
    "        elif r_value <= i1p_4:\n",
    "            pred_runs += 4\n",
    "        elif r_value <= i1p_6:\n",
    "            pred_runs += 6\n",
    "        else:\n",
    "            pred_runs += 0\n",
    "            pred_wkts += 1\n",
    "            if pred_wkts == 10:\n",
    "                break\n",
    "                \n",
    "    return pred_runs"
   ]
  },
  {
   "cell_type": "code",
   "execution_count": 30,
   "id": "72bef23c",
   "metadata": {},
   "outputs": [
    {
     "data": {
      "text/plain": [
       "192"
      ]
     },
     "execution_count": 30,
     "metadata": {},
     "output_type": "execute_result"
    }
   ],
   "source": [
    "innings_1_runs(10.5, 120, 3)"
   ]
  },
  {
   "cell_type": "code",
   "execution_count": 31,
   "id": "479362a5",
   "metadata": {},
   "outputs": [],
   "source": [
    "def innings_2_runs(curr_overs, curr_score, curr_wkts, target):\n",
    "    i2p_0 = t2_cum_pb[0]\n",
    "    i2p_1 = t2_cum_pb[1]\n",
    "    i2p_2 = t2_cum_pb[2]\n",
    "    i2p_3 = t2_cum_pb[3]\n",
    "    i2p_4 = t2_cum_pb[4]\n",
    "    i2p_6 = t2_cum_pb[5]\n",
    "    i2pw = 1\n",
    "    \n",
    "    pred_runs = curr_score\n",
    "    pred_wkts = curr_wkts\n",
    "    \n",
    "    over_ball = curr_overs\n",
    "    over_no = int(str(over_ball).split('.')[0])\n",
    "    ball_no = int(str(over_ball).split('.')[1])\n",
    "    \n",
    "    if ball_no >= 6:\n",
    "        ball_no = 6\n",
    "    current_balls = over_no*6 + ball_no\n",
    "    left_over_balls = 120 - current_balls\n",
    "    \n",
    "    for i in range(left_over_balls):\n",
    "        \n",
    "        r_value = np.random.random()\n",
    "        \n",
    "        if r_value <= i2p_0:\n",
    "            pred_runs += 0\n",
    "        elif r_value <= i2p_1:\n",
    "            pred_runs += 1\n",
    "        elif r_value <= i2p_2:\n",
    "            pred_runs += 2\n",
    "        elif r_value <= i2p_3:\n",
    "            pred_runs += 3\n",
    "        elif r_value <= i2p_4:\n",
    "            pred_runs += 4\n",
    "        elif r_value <= i2p_6:\n",
    "            pred_runs += 6\n",
    "        else:\n",
    "            pred_runs += 0\n",
    "            pred_wkts += 1\n",
    "            if pred_wkts == 10:\n",
    "                break\n",
    "                \n",
    "        if pred_runs > target:\n",
    "            break\n",
    "            \n",
    "    return pred_runs"
   ]
  },
  {
   "cell_type": "code",
   "execution_count": 32,
   "id": "99093336",
   "metadata": {},
   "outputs": [
    {
     "data": {
      "text/plain": [
       "151"
      ]
     },
     "execution_count": 32,
     "metadata": {},
     "output_type": "execute_result"
    }
   ],
   "source": [
    "innings_2_runs(11.4, 95, 4, 149)"
   ]
  },
  {
   "cell_type": "code",
   "execution_count": 33,
   "id": "011b2749",
   "metadata": {},
   "outputs": [
    {
     "data": {
      "text/html": [
       "<div>\n",
       "<style scoped>\n",
       "    .dataframe tbody tr th:only-of-type {\n",
       "        vertical-align: middle;\n",
       "    }\n",
       "\n",
       "    .dataframe tbody tr th {\n",
       "        vertical-align: top;\n",
       "    }\n",
       "\n",
       "    .dataframe thead th {\n",
       "        text-align: right;\n",
       "    }\n",
       "</style>\n",
       "<table border=\"1\" class=\"dataframe\">\n",
       "  <thead>\n",
       "    <tr style=\"text-align: right;\">\n",
       "      <th></th>\n",
       "      <th>match_id</th>\n",
       "      <th>season</th>\n",
       "      <th>start_date</th>\n",
       "      <th>venue</th>\n",
       "      <th>innings</th>\n",
       "      <th>ball</th>\n",
       "      <th>batting_team</th>\n",
       "      <th>bowling_team</th>\n",
       "      <th>striker</th>\n",
       "      <th>non_striker</th>\n",
       "      <th>bowler</th>\n",
       "      <th>runs_off_bat</th>\n",
       "      <th>extras</th>\n",
       "      <th>wides</th>\n",
       "      <th>noballs</th>\n",
       "      <th>byes</th>\n",
       "      <th>legbyes</th>\n",
       "      <th>penalty</th>\n",
       "      <th>wicket_type</th>\n",
       "      <th>player_dismissed</th>\n",
       "      <th>other_wicket_type</th>\n",
       "      <th>other_player_dismissed</th>\n",
       "      <th>total_runs</th>\n",
       "      <th>isOut</th>\n",
       "    </tr>\n",
       "  </thead>\n",
       "  <tbody>\n",
       "    <tr>\n",
       "      <th>0</th>\n",
       "      <td>1181768</td>\n",
       "      <td>2019</td>\n",
       "      <td>2019-05-12</td>\n",
       "      <td>Rajiv Gandhi International Stadium</td>\n",
       "      <td>1</td>\n",
       "      <td>11.5</td>\n",
       "      <td>Mumbai Indians</td>\n",
       "      <td>Chennai Super Kings</td>\n",
       "      <td>KH Pandya</td>\n",
       "      <td>Ishan Kishan</td>\n",
       "      <td>Imran Tahir</td>\n",
       "      <td>0</td>\n",
       "      <td>0</td>\n",
       "      <td>NaN</td>\n",
       "      <td>NaN</td>\n",
       "      <td>NaN</td>\n",
       "      <td>NaN</td>\n",
       "      <td>NaN</td>\n",
       "      <td>NaN</td>\n",
       "      <td>NaN</td>\n",
       "      <td>NaN</td>\n",
       "      <td>NaN</td>\n",
       "      <td>0</td>\n",
       "      <td>0</td>\n",
       "    </tr>\n",
       "    <tr>\n",
       "      <th>1</th>\n",
       "      <td>1181768</td>\n",
       "      <td>2019</td>\n",
       "      <td>2019-05-12</td>\n",
       "      <td>Rajiv Gandhi International Stadium</td>\n",
       "      <td>1</td>\n",
       "      <td>11.6</td>\n",
       "      <td>Mumbai Indians</td>\n",
       "      <td>Chennai Super Kings</td>\n",
       "      <td>KH Pandya</td>\n",
       "      <td>Ishan Kishan</td>\n",
       "      <td>Imran Tahir</td>\n",
       "      <td>1</td>\n",
       "      <td>0</td>\n",
       "      <td>NaN</td>\n",
       "      <td>NaN</td>\n",
       "      <td>NaN</td>\n",
       "      <td>NaN</td>\n",
       "      <td>NaN</td>\n",
       "      <td>NaN</td>\n",
       "      <td>NaN</td>\n",
       "      <td>NaN</td>\n",
       "      <td>NaN</td>\n",
       "      <td>1</td>\n",
       "      <td>0</td>\n",
       "    </tr>\n",
       "  </tbody>\n",
       "</table>\n",
       "</div>"
      ],
      "text/plain": [
       "   match_id  season  start_date                               venue  innings  ball    batting_team         bowling_team    striker   non_striker       bowler  runs_off_bat  extras  wides  noballs  byes  legbyes  penalty wicket_type player_dismissed  other_wicket_type  other_player_dismissed  total_runs  isOut\n",
       "0  1181768   2019    2019-05-12  Rajiv Gandhi International Stadium  1        11.5  Mumbai Indians  Chennai Super Kings  KH Pandya  Ishan Kishan  Imran Tahir  0             0      NaN    NaN      NaN   NaN      NaN       NaN         NaN             NaN                NaN                      0           0    \n",
       "1  1181768   2019    2019-05-12  Rajiv Gandhi International Stadium  1        11.6  Mumbai Indians  Chennai Super Kings  KH Pandya  Ishan Kishan  Imran Tahir  1             0      NaN    NaN      NaN   NaN      NaN       NaN         NaN             NaN                NaN                      1           0    "
      ]
     },
     "execution_count": 33,
     "metadata": {},
     "output_type": "execute_result"
    }
   ],
   "source": [
    "mdf = ipl_df[ipl_df.match_id == required_match_id]\n",
    "mdf.reset_index(drop = True, inplace = True)\n",
    "mdf.head(2)"
   ]
  },
  {
   "cell_type": "code",
   "execution_count": 34,
   "id": "f6722811",
   "metadata": {},
   "outputs": [],
   "source": [
    "df_ing1 = mdf[mdf.innings == 1]\n",
    "df_ing2 = mdf[mdf.innings == 2]"
   ]
  },
  {
   "cell_type": "code",
   "execution_count": 35,
   "id": "a11377e8",
   "metadata": {},
   "outputs": [],
   "source": [
    "df_ing1 = df_ing1.sort_values('ball', ascending = True)\n",
    "df_ing2 = df_ing2.sort_values('ball', ascending = True)\n",
    "\n",
    "df_ing1.reset_index(drop = True, inplace = True)\n",
    "df_ing2.reset_index(drop = True, inplace = True)"
   ]
  },
  {
   "cell_type": "code",
   "execution_count": 36,
   "id": "69902389",
   "metadata": {},
   "outputs": [],
   "source": [
    "curr_score = 0\n",
    "curr_overs = 0.0\n",
    "curr_wkts = 0\n",
    "\n",
    "ing1_runs_pred = []\n",
    "\n",
    "for i in range(len(df_ing1)):\n",
    "    curr_score += df_ing1.total_runs[i]\n",
    "    curr_wkts += df_ing1.isOut[i]\n",
    "    curr_overs = df_ing1.ball[i]\n",
    "    \n",
    "    prediction = innings_1_runs(curr_overs, curr_score, curr_wkts)\n",
    "    \n",
    "    #print('score:',curr_score,' ', 'overs:',curr_overs,' ', 'wickets:',curr_wkts,' ', 'prediction: ',prediction)\n",
    "    \n",
    "    ing1_runs_pred.append(prediction)"
   ]
  },
  {
   "cell_type": "code",
   "execution_count": 37,
   "id": "2de22ca0",
   "metadata": {},
   "outputs": [],
   "source": [
    "ing1_actual_score = sum(df_ing1.total_runs)"
   ]
  },
  {
   "cell_type": "code",
   "execution_count": 38,
   "id": "63c075f5",
   "metadata": {},
   "outputs": [],
   "source": [
    "curr_score = 0\n",
    "curr_wickets = 0\n",
    "curr_overs = 0.0\n",
    "target = ing1_actual_score\n",
    "\n",
    "ing2_runs_pred = []\n",
    "\n",
    "for i in range(len(df_ing2)):\n",
    "    curr_score += df_ing2.total_runs[i]\n",
    "    curr_overs = df_ing2.ball[i]\n",
    "    curr_wickets += df_ing2.isOut[i]\n",
    "    \n",
    "    prediction = innings_2_runs(curr_overs, curr_score, curr_wickets, target)#\n",
    "#    print('target: ', target)\n",
    "#    print('score: ', curr_score,' ', ' overs: ', curr_overs,' ', ' wickets: ', curr_wickets,' ', ' prediction: ', prediction)\n",
    "    ing2_runs_pred.append(prediction)"
   ]
  },
  {
   "cell_type": "code",
   "execution_count": 39,
   "id": "f6f266ff",
   "metadata": {},
   "outputs": [
    {
     "data": {
      "image/png": "[encoded data removed]",
      "text/plain": [
       "<Figure size 1152x432 with 1 Axes>"
      ]
     },
     "metadata": {
      "needs_background": "light"
     },
     "output_type": "display_data"
    }
   ],
   "source": [
    "plt.figure(figsize = (16, 6))\n",
    "plt.scatter([i for i in range(len(ing1_runs_pred))], ing1_runs_pred, alpha = 0.5, label = 'pred', color = 'red')\n",
    "plt.ylim(0, ing1_actual_score + 30)\n",
    "plt.axhline(ing1_actual_score, ls = '--', label = 'actual', color = 'green')\n",
    "plt.title('First Innings Runs - Prediction vs Actual (' + t1 + ': ' + str(ing1_actual_score) +  ')', fontsize = 16)\n",
    "plt.legend()\n",
    "plt.xlabel('Ball No')\n",
    "plt.ylabel('Runs')\n",
    "plt.show()"
   ]
  },
  {
   "cell_type": "code",
   "execution_count": 40,
   "id": "c82801e7",
   "metadata": {},
   "outputs": [
    {
     "data": {
      "text/plain": [
       "10.845528455284553"
      ]
     },
     "execution_count": 40,
     "metadata": {},
     "output_type": "execute_result"
    }
   ],
   "source": [
    "np.mean([abs(i - ing1_actual_score) for i in ing1_runs_pred])"
   ]
  },
  {
   "cell_type": "code",
   "execution_count": 41,
   "id": "22a55718",
   "metadata": {},
   "outputs": [],
   "source": [
    "ing2_actual_score = sum(df_ing2.total_runs)"
   ]
  },
  {
   "cell_type": "code",
   "execution_count": 42,
   "id": "5fd0c640",
   "metadata": {},
   "outputs": [
    {
     "data": {
      "image/png": "[encoded data removed]",
      "text/plain": [
       "<Figure size 1152x432 with 1 Axes>"
      ]
     },
     "metadata": {
      "needs_background": "light"
     },
     "output_type": "display_data"
    }
   ],
   "source": [
    "plt.figure(figsize = (16, 6))\n",
    "plt.scatter([i for i in range(len(ing2_runs_pred))], ing2_runs_pred, alpha = 0.5, label = 'pred', color = 'red')\n",
    "plt.ylim(0, ing2_actual_score + 30)\n",
    "plt.axhline(ing2_actual_score, ls = '--', label = 'actual', color = 'green')\n",
    "plt.title('Second Innings Runs - Prediction vs Actual (' + t2 + ': ' + str(ing2_actual_score) +  ')', fontsize = 16)\n",
    "plt.xlabel('Ball No')\n",
    "plt.ylabel('Runs')\n",
    "plt.legend()\n",
    "plt.show()"
   ]
  },
  {
   "cell_type": "code",
   "execution_count": 43,
   "id": "b57f6376",
   "metadata": {},
   "outputs": [
    {
     "data": {
      "text/plain": [
       "7.967741935483871"
      ]
     },
     "execution_count": 43,
     "metadata": {},
     "output_type": "execute_result"
    }
   ],
   "source": [
    "np.mean([abs(i - ing2_actual_score) for i in ing2_runs_pred])"
   ]
  },
  {
   "cell_type": "code",
   "execution_count": 44,
   "id": "ff5889ab",
   "metadata": {},
   "outputs": [],
   "source": [
    "win_count = 0\n",
    "tie_count = 0\n",
    "lose_count = 0\n",
    "\n",
    "win_count_ls = []\n",
    "tie_count_ls = []\n",
    "lose_count_ls = []\n",
    "\n",
    "ing1_curr_score = 0\n",
    "ing1_curr_overs = 0\n",
    "ing1_curr_wickets = 0\n",
    "\n",
    "for i in range(len(df_ing1)):\n",
    "    \n",
    "    # 1st innings values\n",
    "    ing1_curr_score += df_ing1.total_runs[i]\n",
    "    ing1_curr_overs = df_ing1.ball[i]\n",
    "    ing1_curr_wickets += df_ing1.isOut[i]\n",
    "    \n",
    "    #2nd innings values\n",
    "    ing2_curr_score = 0\n",
    "    ing2_curr_wickets = 0\n",
    "    ing2_curr_overs = 0.0\n",
    "    \n",
    "    \n",
    "    for j in range(100):\n",
    "        \n",
    "        ing1_prediction = innings_1_runs(ing1_curr_overs, ing1_curr_score, ing1_curr_wickets)\n",
    "        target = ing1_prediction\n",
    "        \n",
    "        ing2_prediction = innings_2_runs(ing2_curr_overs, ing2_curr_score, ing2_curr_wickets, target)\n",
    "        \n",
    "        #print(ing1_prediction, ing2_prediction)\n",
    "        \n",
    "        \n",
    "        if ing2_prediction > target:\n",
    "            win_count += 1\n",
    "        elif ing2_prediction == target:\n",
    "            tie_count += 1\n",
    "        else:\n",
    "            lose_count += 1\n",
    "            \n",
    "    win_count_ls.append(win_count)\n",
    "    tie_count_ls.append(tie_count)\n",
    "    lose_count_ls.append(lose_count)\n",
    "    \n",
    "    win_count = 0\n",
    "    tie_count = 0\n",
    "    lose_count = 0"
   ]
  },
  {
   "cell_type": "code",
   "execution_count": 45,
   "id": "21bf7882",
   "metadata": {},
   "outputs": [
    {
     "data": {
      "text/plain": [
       "(123, 123, 123)"
      ]
     },
     "execution_count": 45,
     "metadata": {},
     "output_type": "execute_result"
    }
   ],
   "source": [
    "len(win_count_ls),len(tie_count_ls),len(lose_count_ls)"
   ]
  },
  {
   "cell_type": "code",
   "execution_count": 46,
   "id": "d96c1245",
   "metadata": {},
   "outputs": [],
   "source": [
    "ing2_curr_score = 0\n",
    "ing2_curr_wickets = 0\n",
    "ing2_curr_overs = 0.0\n",
    "\n",
    "for i in range(len(df_ing2)):\n",
    "    \n",
    "    target = ing1_actual_score\n",
    "    \n",
    "    ing2_curr_score += df_ing2.total_runs[i]\n",
    "    ing2_curr_wickets += df_ing2.isOut[i]\n",
    "    ing2_curr_overs = df_ing2.ball[i]\n",
    "    \n",
    "    for j in range(100):\n",
    "        ing2_prediction = innings_2_runs(ing2_curr_overs, ing2_curr_score, ing2_curr_wickets, target)\n",
    "        \n",
    "        #print(target, ing2_prediction)\n",
    "        \n",
    "        \n",
    "        if ing2_prediction > target:\n",
    "            win_count += 1\n",
    "        elif ing2_prediction == target:\n",
    "            tie_count += 1\n",
    "        else:\n",
    "            lose_count += 1\n",
    "            \n",
    "    win_count_ls.append(win_count)\n",
    "    tie_count_ls.append(tie_count)\n",
    "    lose_count_ls.append(lose_count)\n",
    "    \n",
    "    win_count = 0\n",
    "    tie_count = 0\n",
    "    lose_count = 0"
   ]
  },
  {
   "cell_type": "code",
   "execution_count": 47,
   "id": "fcbf2e12",
   "metadata": {},
   "outputs": [
    {
     "data": {
      "text/plain": [
       "(247, 247, 247)"
      ]
     },
     "execution_count": 47,
     "metadata": {},
     "output_type": "execute_result"
    }
   ],
   "source": [
    "len(win_count_ls),len(tie_count_ls),len(lose_count_ls)"
   ]
  },
  {
   "cell_type": "code",
   "execution_count": 48,
   "id": "747552e7",
   "metadata": {},
   "outputs": [
    {
     "data": {
      "image/png": "[encoded data removed]",
      "text/plain": [
       "<Figure size 1152x432 with 1 Axes>"
      ]
     },
     "metadata": {
      "needs_background": "light"
     },
     "output_type": "display_data"
    }
   ],
   "source": [
    "plt.figure(figsize = (16, 6))\n",
    "\n",
    "x1_values = [i for i in range(len(win_count_ls))]\n",
    "y1_values = win_count_ls\n",
    "\n",
    "x2_values = [i for i in range(len(tie_count_ls))]\n",
    "y2_values = tie_count_ls\n",
    "\n",
    "x3_values = [i for i in range(len(lose_count_ls))]\n",
    "y3_values = lose_count_ls\n",
    "\n",
    "for i in range(10, len(mdf), 20):\n",
    "    if i < len(mdf) - 10:\n",
    "        plt.axvspan(i, i+10, ymin = 0, ymax = 100, alpha = 0.05, color='grey')\n",
    "        \n",
    "plt.axhline(y = 75, ls = '--', alpha = 0.3, c = 'grey')\n",
    "plt.axhline(y = 50, ls = '--', alpha = 1, c = 'grey')\n",
    "plt.axhline(y = 25, ls = '--', alpha = 0.3, c = 'grey')\n",
    "\n",
    "plt.plot(x1_values, y1_values, color = 'yellow', label = t2)\n",
    "plt.plot(x2_values, y2_values, color = 'grey', label = 'Tie Value')\n",
    "plt.plot(x3_values, y3_values, color = 'blue', label = t1)\n",
    "\n",
    "plt.ylim(0, 100)\n",
    "plt.yticks([0, 25, 50, 75, 100])\n",
    "\n",
    "plt.title('Win Percentage Chart: ' + t1 + ' vs ' + t2, fontsize = 16)\n",
    "plt.xlabel('Ball No')\n",
    "plt.ylabel('Win %')\n",
    "plt.legend()\n",
    "plt.show()"
   ]
  },
  {
   "cell_type": "markdown",
   "id": "60b09e04",
   "metadata": {},
   "source": [
    "## Interactive model"
   ]
  },
  {
   "cell_type": "code",
   "execution_count": 49,
   "id": "438e97ba",
   "metadata": {},
   "outputs": [],
   "source": [
    "def getpbvalues(teamName):\n",
    "    \n",
    "    if teamName == 'MI':\n",
    "        p_0 = t1_cum_pb[0]\n",
    "        p_1 = t1_cum_pb[1]\n",
    "        p_2 = t1_cum_pb[2]\n",
    "        p_3 = t1_cum_pb[3]\n",
    "        p_4 = t1_cum_pb[4]\n",
    "        p_6 = t1_cum_pb[5]\n",
    "        p_w = 1\n",
    "        \n",
    "    elif teamName == 'CSK':\n",
    "        p_0 = t2_cum_pb[0]\n",
    "        p_1 = t2_cum_pb[1]\n",
    "        p_2 = t2_cum_pb[2]\n",
    "        p_3 = t2_cum_pb[3]\n",
    "        p_4 = t2_cum_pb[4]\n",
    "        p_6 = t2_cum_pb[5]\n",
    "        p_w = 1\n",
    "        \n",
    "    return p_0,p_1,p_2,p_3,p_4,p_6,p_w"
   ]
  },
  {
   "cell_type": "code",
   "execution_count": 50,
   "id": "233bfad3",
   "metadata": {},
   "outputs": [],
   "source": [
    "def predict_runs(target, curr_score, curr_overs, curr_wkts):\n",
    "    \n",
    "    i1p_0, i1p_1, i1p_2, i1p_3, i1p_4, i1p_6, i1p_w = getpbvalues('MI')\n",
    "    i2p_0, i2p_1, i2p_2, i2p_3, i2p_4, i2p_6, i2p_w = getpbvalues('CSK')\n",
    "    \n",
    "    pred_runs = curr_score\n",
    "    pred_wkts = curr_wkts\n",
    "    left_over_balls = 120 - curr_overs*6\n",
    "    \n",
    "    for i in range(left_over_balls):\n",
    "        \n",
    "        r_value = np.random.random()\n",
    "        \n",
    "        if r_value <= i2p_0:\n",
    "            pred_runs += 0\n",
    "        elif r_value <= i2p_1:\n",
    "            pred_runs += 1\n",
    "        elif r_value <= i2p_2:\n",
    "            pred_runs += 2\n",
    "        elif r_value <= i2p_3:\n",
    "            pred_runs += 3\n",
    "        elif r_value <= i2p_4:\n",
    "            pred_runs += 4\n",
    "        elif r_value <= i2p_6:\n",
    "            pred_runs += 6\n",
    "        else:\n",
    "            pred_runs += 0\n",
    "            pred_wkts += 1\n",
    "            if pred_wkts == 10:\n",
    "                break\n",
    "        if pred_runs > target:\n",
    "            break\n",
    "            \n",
    "    return pred_runs\n",
    "    "
   ]
  },
  {
   "cell_type": "code",
   "execution_count": 51,
   "id": "04e781cb",
   "metadata": {},
   "outputs": [
    {
     "data": {
      "text/plain": [
       "153"
      ]
     },
     "execution_count": 51,
     "metadata": {},
     "output_type": "execute_result"
    }
   ],
   "source": [
    "predict_runs(149, 133, 5, 18.2)"
   ]
  },
  {
   "cell_type": "code",
   "execution_count": 52,
   "id": "2ff30867",
   "metadata": {},
   "outputs": [],
   "source": [
    "def get_win(pred_runs, target):\n",
    "    if pred_runs > target:\n",
    "        return 'win'\n",
    "    elif pred_runs == target:\n",
    "        return 'tie'\n",
    "    else:\n",
    "        return 'lose'"
   ]
  },
  {
   "cell_type": "code",
   "execution_count": 53,
   "id": "df1394d2",
   "metadata": {},
   "outputs": [],
   "source": [
    "target = 167\n",
    "\n",
    "current_score = 87\n",
    "current_wickets = 1\n",
    "current_overs = 10\n",
    "\n",
    "iter_count = 100\n",
    "\n",
    "runs_ls = []\n",
    "results_ls = []\n",
    "\n",
    "win_count = 0\n",
    "tie_count = 0\n",
    "lose_count = 0\n",
    "\n",
    "for i in range(iter_count):\n",
    "    pred_runs = predict_runs(target, current_score, current_wickets, current_overs)\n",
    "    runs_ls.append(pred_runs)\n",
    "    result_pred = get_win(pred_runs, target)\n",
    "    results_ls.append(result_pred)\n",
    "\n",
    "    if result_pred == 'win':\n",
    "        win_count += 1\n",
    "    elif result_pred == 'tie':\n",
    "        tie_count += 1\n",
    "    else:\n",
    "        lose_count +=1"
   ]
  },
  {
   "cell_type": "code",
   "execution_count": 54,
   "id": "bc3edfa7",
   "metadata": {},
   "outputs": [
    {
     "data": {
      "text/plain": [
       "(100, 0, 0)"
      ]
     },
     "execution_count": 54,
     "metadata": {},
     "output_type": "execute_result"
    }
   ],
   "source": [
    "win_count, tie_count, lose_count"
   ]
  },
  {
   "cell_type": "code",
   "execution_count": 55,
   "id": "5dfe5d7b",
   "metadata": {},
   "outputs": [],
   "source": [
    "def find_runs(curr_score, target, at_overs, curr_wkts):\n",
    "    \n",
    "    runs_ls = []\n",
    "    results_ls = []\n",
    "\n",
    "    req_runs = []\n",
    "    win_ls = []\n",
    "\n",
    "    for i in range(curr_score, target + 1):\n",
    "        win_count = 0\n",
    "        tie_count = 0\n",
    "        lose_count = 0\n",
    "\n",
    "        for j in range(100):\n",
    "            pred_runs = predict_runs(target, i, curr_wkts, at_overs)\n",
    "            runs_ls.append(pred_runs)\n",
    "            result_pred = get_win(pred_runs, target)\n",
    "            results_ls.append(result_pred)\n",
    "\n",
    "            if result_pred == 'win':\n",
    "                win_count += 1\n",
    "            elif result_pred == 'tie':\n",
    "                tie_count += 1\n",
    "            else:\n",
    "                lose_count +=1\n",
    "\n",
    "            win_ls.append(win_count)\n",
    "            req_runs.append(i)\n",
    "            # print('runs: ', i, ' win%: ', win_count)\n",
    "\n",
    "    required_runs = current_score\n",
    "    for i in range(len(req_runs)):\n",
    "        if win_ls[i] >= 50:\n",
    "            required_runs = req_runs[i]\n",
    "            # print('Runs to be: ', req_runs[i])\n",
    "            break\n",
    "\n",
    "    return required_runs"
   ]
  },
  {
   "cell_type": "code",
   "execution_count": 56,
   "id": "f4d0e4dd",
   "metadata": {},
   "outputs": [
    {
     "data": {
      "text/plain": [
       "135"
      ]
     },
     "execution_count": 56,
     "metadata": {},
     "output_type": "execute_result"
    }
   ],
   "source": [
    "find_runs(133, 149, 5, 18)"
   ]
  },
  {
   "cell_type": "code",
   "execution_count": 57,
   "id": "ceb2b406",
   "metadata": {},
   "outputs": [],
   "source": [
    "def find_wkts(curr_score, target, curr_wkts, at_overs):\n",
    "\n",
    "    req_runs = find_runs(curr_score, target, curr_wkts, at_overs)\n",
    "\n",
    "    runs_ls = []\n",
    "    results_ls = []\n",
    "\n",
    "    req_wks = []\n",
    "    win_ls = []\n",
    "\n",
    "    for i in range(curr_wkts, 10):\n",
    "        win_count = 0\n",
    "        tie_count = 0\n",
    "        lose_count = 0\n",
    "\n",
    "        for j in range(100):\n",
    "#             pred_runs = predict_runs(target, req_runs, i, at_overs)\n",
    "            pred_runs = predict_runs(target, curr_score, i, at_overs)\n",
    "            runs_ls.append(pred_runs)\n",
    "            result_pred = get_win(pred_runs, target)\n",
    "            results_ls.append(result_pred)\n",
    "\n",
    "            if result_pred == 'win':\n",
    "                win_count += 1\n",
    "            elif result_pred == 'tie':\n",
    "                tie_count += 1\n",
    "            else:\n",
    "                lose_count +=1\n",
    "\n",
    "        win_ls.append(win_count)\n",
    "        req_wks.append(i)\n",
    "#         print('wickets: ', i, ' win%: ', win_count)\n",
    "\n",
    "    req_wicket_value = curr_wkts\n",
    "    \n",
    "    for i in range(len(req_wks)):\n",
    "        if (win_ls[i] < 45)  :\n",
    "            req_wicket_value = req_wks[i]\n",
    "            break\n",
    "\n",
    "    return req_wicket_value"
   ]
  },
  {
   "cell_type": "code",
   "execution_count": 58,
   "id": "a6f485cb",
   "metadata": {},
   "outputs": [
    {
     "data": {
      "text/plain": [
       "3"
      ]
     },
     "execution_count": 58,
     "metadata": {},
     "output_type": "execute_result"
    }
   ],
   "source": [
    "find_wkts(79, 149, 3, 12)"
   ]
  },
  {
   "cell_type": "code",
   "execution_count": 59,
   "id": "92279675",
   "metadata": {},
   "outputs": [],
   "source": [
    "%matplotlib inline\n",
    "from ipywidgets import interactive\n",
    "import ipywidgets as widgets\n",
    "\n",
    "def find_runs_wkts(curr_score, curr_wkts, at_overs, target_score):\n",
    "    \n",
    "    plt.figure(figsize=(16,6))\n",
    "    x = np.array(list(range(21)))\n",
    "    req_value = find_runs(curr_score, target_score, curr_wkts, at_overs)\n",
    "    req_wk_value = find_wkts(curr_score, target_score, curr_wkts, at_overs)\n",
    "    \n",
    "    if at_overs == 18:\n",
    "        req_value = curr_score\n",
    "        req_wk_value = curr_wkts\n",
    "        \n",
    "        # print(req_value)\n",
    "    y = np.array([req_value for i in range(21)])\n",
    "\n",
    "    # plt.plot(x, current_overs * x + target_score)\n",
    "    # plt.plot(x, y)\n",
    "    plt.scatter(at_overs, req_value, s = 1200, color = 'red')\n",
    "    plt.axhline(target_score, ls = '--', color = 'blue')\n",
    "    plt.text( 1, target_score + 10, 'Target Score :' + str(target_score) , color = 'darkblue', fontsize = 13)\n",
    "    plt.text( at_overs, req_value, str(req_value) + '/' + str(req_wk_value), color = 'white', fontsize = 12,  horizontalalignment='center', verticalalignment='center')\n",
    "    plt.text(at_overs, req_value - 30, 'CSK has to be at ' + str(req_value) + '/' +  str(req_wk_value) + ' after ' + str(at_overs) + ' ov', horizontalalignment='center')\n",
    "    plt.ylim(50, target_score + 50)\n",
    "    plt.xticks(x)\n",
    "    plt.title('Where should CSK be?', fontsize = 20)\n",
    "    plt.xlabel('Overs')\n",
    "    plt.ylabel('Score')\n",
    "    plt.show()"
   ]
  },
  {
   "cell_type": "code",
   "execution_count": 60,
   "id": "bf5b11e0",
   "metadata": {},
   "outputs": [
    {
     "data": {
      "application/vnd.jupyter.widget-view+json": {
       "model_id": "9a8b5c0c852349cda6040f570d2625d8",
       "version_major": 2,
       "version_minor": 0
      },
      "text/plain": [
       "interactive(children=(IntSlider(value=1, description='curr_score', max=250, min=1), IntSlider(value=1, descrip…"
      ]
     },
     "metadata": {},
     "output_type": "display_data"
    }
   ],
   "source": [
    "interactive_plot = interactive(find_runs_wkts,curr_score = widgets.IntSlider(min=1, max=250, step=1, value=1), curr_wkts = widgets.IntSlider(min=1, max=10, step=1, value=1),  at_overs=widgets.IntSlider(min=10, max=20, step=1, value=10), target_score = widgets.IntSlider(min=0, max=250, step=1, value=149))\n",
    "output = interactive_plot.children[-1]\n",
    "output.layout.height = '450px'\n",
    "interactive_plot"
   ]
  },
  {
   "cell_type": "code",
   "execution_count": null,
   "id": "3009096e",
   "metadata": {},
   "outputs": [],
   "source": []
  },
  {
   "cell_type": "code",
   "execution_count": null,
   "id": "c6bcf5a8",
   "metadata": {},
   "outputs": [],
   "source": []
  }
 ],
 "metadata": {
  "kernelspec": {
   "display_name": "Python 3 (ipykernel)",
   "language": "python",
   "name": "python3"
  },
  "language_info": {
   "codemirror_mode": {
    "name": "ipython",
    "version": 3
   },
   "file_extension": ".py",
   "mimetype": "text/x-python",
   "name": "python",
   "nbconvert_exporter": "python",
   "pygments_lexer": "ipython3",
   "version": "3.9.7"
  }
 },
 "nbformat": 4,
 "nbformat_minor": 5
}
